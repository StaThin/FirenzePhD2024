{
 "cells": [
  {
   "cell_type": "markdown",
   "metadata": {},
   "source": [
    "# Regression chain graph for GSS data\n",
    "\n",
    "## Read the data"
   ]
  },
  {
   "cell_type": "code",
   "execution_count": 34,
   "metadata": {
    "vscode": {
     "languageId": "r"
    }
   },
   "outputs": [],
   "source": [
    "library(\"ggm\")\n",
    "library(\"cta\")\n",
    "source(\"funs_RCG.R\")"
   ]
  },
  {
   "cell_type": "code",
   "execution_count": 35,
   "metadata": {
    "vscode": {
     "languageId": "r"
    }
   },
   "outputs": [],
   "source": [
    "ex <- read.csv(\"gss.txt\", na.string = c(\"0\", \"8\", \"9\"))\n",
    "year <- ex$YEAR\n",
    "ex$SATJOB[ex$SATJOB == 4] <- 3\n",
    "ex <- (ex[c(3, 4, 5, 6, 7, 8)]) # CAPPUN(D),GUNLAW(G),SEX(S),ABRAPE(A),CONFINAN(F),SATJOB(J)\n",
    "names(ex) <- c(\"D\", \"G\", \"S\", \"A\", \"B\", \"J\")\n",
    "gss_raw <- ex"
   ]
  },
  {
   "cell_type": "code",
   "execution_count": 36,
   "metadata": {
    "vscode": {
     "languageId": "r"
    }
   },
   "outputs": [
    {
     "data": {
      "text/html": [
       "<table class=\"dataframe\">\n",
       "<caption>A data.frame: 6 x 6</caption>\n",
       "<thead>\n",
       "\t<tr><th></th><th scope=col>D</th><th scope=col>G</th><th scope=col>S</th><th scope=col>A</th><th scope=col>B</th><th scope=col>J</th></tr>\n",
       "\t<tr><th></th><th scope=col>&lt;int&gt;</th><th scope=col>&lt;int&gt;</th><th scope=col>&lt;int&gt;</th><th scope=col>&lt;int&gt;</th><th scope=col>&lt;int&gt;</th><th scope=col>&lt;dbl&gt;</th></tr>\n",
       "</thead>\n",
       "<tbody>\n",
       "\t<tr><th scope=row>1</th><td>1</td><td> 2</td><td>2</td><td> 2</td><td> 1</td><td> 1</td></tr>\n",
       "\t<tr><th scope=row>2</th><td>1</td><td>NA</td><td>1</td><td>NA</td><td> 1</td><td> 1</td></tr>\n",
       "\t<tr><th scope=row>3</th><td>2</td><td>NA</td><td>2</td><td>NA</td><td> 2</td><td>NA</td></tr>\n",
       "\t<tr><th scope=row>4</th><td>2</td><td> 1</td><td>2</td><td> 1</td><td>NA</td><td> 2</td></tr>\n",
       "\t<tr><th scope=row>5</th><td>2</td><td> 1</td><td>1</td><td> 1</td><td>NA</td><td>NA</td></tr>\n",
       "\t<tr><th scope=row>6</th><td>1</td><td>NA</td><td>2</td><td>NA</td><td>NA</td><td> 1</td></tr>\n",
       "</tbody>\n",
       "</table>\n"
      ],
      "text/latex": [
       "A data.frame: 6 x 6\n",
       "\\begin{tabular}{r|llllll}\n",
       "  & D & G & S & A & B & J\\\\\n",
       "  & <int> & <int> & <int> & <int> & <int> & <dbl>\\\\\n",
       "\\hline\n",
       "\t1 & 1 &  2 & 2 &  2 &  1 &  1\\\\\n",
       "\t2 & 1 & NA & 1 & NA &  1 &  1\\\\\n",
       "\t3 & 2 & NA & 2 & NA &  2 & NA\\\\\n",
       "\t4 & 2 &  1 & 2 &  1 & NA &  2\\\\\n",
       "\t5 & 2 &  1 & 1 &  1 & NA & NA\\\\\n",
       "\t6 & 1 & NA & 2 & NA & NA &  1\\\\\n",
       "\\end{tabular}\n"
      ],
      "text/markdown": [
       "\n",
       "A data.frame: 6 x 6\n",
       "\n",
       "| <!--/--> | D &lt;int&gt; | G &lt;int&gt; | S &lt;int&gt; | A &lt;int&gt; | B &lt;int&gt; | J &lt;dbl&gt; |\n",
       "|---|---|---|---|---|---|---|\n",
       "| 1 | 1 |  2 | 2 |  2 |  1 |  1 |\n",
       "| 2 | 1 | NA | 1 | NA |  1 |  1 |\n",
       "| 3 | 2 | NA | 2 | NA |  2 | NA |\n",
       "| 4 | 2 |  1 | 2 |  1 | NA |  2 |\n",
       "| 5 | 2 |  1 | 1 |  1 | NA | NA |\n",
       "| 6 | 1 | NA | 2 | NA | NA |  1 |\n",
       "\n"
      ],
      "text/plain": [
       "  D G  S A  B  J \n",
       "1 1  2 2  2  1  1\n",
       "2 1 NA 1 NA  1  1\n",
       "3 2 NA 2 NA  2 NA\n",
       "4 2  1 2  1 NA  2\n",
       "5 2  1 1  1 NA NA\n",
       "6 1 NA 2 NA NA  1"
      ]
     },
     "metadata": {},
     "output_type": "display_data"
    }
   ],
   "source": [
    "head(gss_raw)"
   ]
  },
  {
   "cell_type": "code",
   "execution_count": 56,
   "metadata": {
    "vscode": {
     "languageId": "r"
    }
   },
   "outputs": [],
   "source": [
    "gss_data4 <- na.omit(gss_raw[, c(\"D\", \"G\", \"J\", \"B\")])\n",
    "for (j in 1:4) gss_data4[, j] <- factor(gss_data4[, j])\n",
    "tab <- table(gss_data4)\n",
    "ft <- ftable(B + J ~ G + D, tab)"
   ]
  },
  {
   "cell_type": "code",
   "execution_count": 38,
   "metadata": {
    "vscode": {
     "languageId": "r"
    }
   },
   "outputs": [
    {
     "data": {
      "text/html": [
       "<style>\n",
       ".list-inline {list-style: none; margin:0; padding: 0}\n",
       ".list-inline>li {display: inline-block}\n",
       ".list-inline>li:not(:last-child)::after {content: \"\\00b7\"; padding: 0 .5ex}\n",
       "</style>\n",
       "<ol class=list-inline><li>13473</li><li>4</li></ol>\n"
      ],
      "text/latex": [
       "\\begin{enumerate*}\n",
       "\\item 13473\n",
       "\\item 4\n",
       "\\end{enumerate*}\n"
      ],
      "text/markdown": [
       "1. 13473\n",
       "2. 4\n",
       "\n",
       "\n"
      ],
      "text/plain": [
       "[1] 13473     4"
      ]
     },
     "metadata": {},
     "output_type": "display_data"
    }
   ],
   "source": [
    "dim(gss_data4)"
   ]
  },
  {
   "cell_type": "code",
   "execution_count": 39,
   "metadata": {
    "vscode": {
     "languageId": "r"
    }
   },
   "outputs": [
    {
     "data": {
      "text/plain": [
       "    B    1              2              3          \n",
       "    J    1    2    3    1    2    3    1    2    3\n",
       "G D                                               \n",
       "1 1   1168  705  254 1931 1577  548  449  367  218\n",
       "  2    453  299  112  733  671  300  201  175   88\n",
       "2 1    389  242   83  663  540  184  158  165   74\n",
       "  2    107   75   26  159  153   71   51   51   33"
      ]
     },
     "metadata": {},
     "output_type": "display_data"
    }
   ],
   "source": [
    "ft"
   ]
  },
  {
   "cell_type": "markdown",
   "metadata": {},
   "source": [
    "## Define the link function"
   ]
  },
  {
   "cell_type": "markdown",
   "metadata": {
    "vscode": {
     "languageId": "r"
    }
   },
   "source": [
    "Vector of joint frequencies"
   ]
  },
  {
   "cell_type": "code",
   "execution_count": 58,
   "metadata": {
    "vscode": {
     "languageId": "r"
    }
   },
   "outputs": [],
   "source": [
    "y <- as.vector(tab)"
   ]
  },
  {
   "cell_type": "code",
   "execution_count": 59,
   "metadata": {
    "vscode": {
     "languageId": "r"
    }
   },
   "outputs": [],
   "source": [
    "c1 <- c(1, 2)\n",
    "c2 <- c(3, 4)"
   ]
  },
  {
   "cell_type": "code",
   "execution_count": 60,
   "metadata": {
    "vscode": {
     "languageId": "r"
    }
   },
   "outputs": [
    {
     "data": {
      "text/html": [
       "<ol>\n",
       "\t<li>1</li>\n",
       "\t<li>2</li>\n",
       "\t<li><style>\n",
       ".list-inline {list-style: none; margin:0; padding: 0}\n",
       ".list-inline>li {display: inline-block}\n",
       ".list-inline>li:not(:last-child)::after {content: \"\\00b7\"; padding: 0 .5ex}\n",
       "</style>\n",
       "<ol class=list-inline><li>1</li><li>2</li></ol>\n",
       "</li>\n",
       "</ol>\n"
      ],
      "text/latex": [
       "\\begin{enumerate}\n",
       "\\item 1\n",
       "\\item 2\n",
       "\\item \\begin{enumerate*}\n",
       "\\item 1\n",
       "\\item 2\n",
       "\\end{enumerate*}\n",
       "\n",
       "\\end{enumerate}\n"
      ],
      "text/markdown": [
       "1. 1\n",
       "2. 2\n",
       "3. 1. 1\n",
       "2. 2\n",
       "\n",
       "\n",
       "\n",
       "\n",
       "\n"
      ],
      "text/plain": [
       "[[1]]\n",
       "[1] 1\n",
       "\n",
       "[[2]]\n",
       "[1] 2\n",
       "\n",
       "[[3]]\n",
       "[1] 1 2\n"
      ]
     },
     "metadata": {},
     "output_type": "display_data"
    }
   ],
   "source": [
    "b <- c(2,2,3,3)\n",
    "P <- powerset(seq_along(b[c1]))\n",
    "P"
   ]
  },
  {
   "cell_type": "code",
   "execution_count": 61,
   "metadata": {
    "vscode": {
     "languageId": "r"
    }
   },
   "outputs": [
    {
     "name": "stdout",
     "output_type": "stream",
     "text": [
      "[[1]]\n",
      "     [,1] [,2]\n",
      "[1,]   -1    1\n",
      "\n",
      "[[2]]\n",
      "     [,1] [,2]\n",
      "[1,]   -1    1\n",
      "\n",
      "[[3]]\n",
      "     [,1] [,2] [,3] [,4]\n",
      "[1,]    1   -1   -1    1\n",
      "\n"
     ]
    }
   ],
   "source": [
    "Clist <- ctr_list(P, b[c1])\n",
    "print(Clist)"
   ]
  },
  {
   "cell_type": "code",
   "execution_count": 62,
   "metadata": {
    "vscode": {
     "languageId": "r"
    }
   },
   "outputs": [],
   "source": [
    "link1 <- function(y) mlogit_link(y, b[c1], P, Clist)"
   ]
  },
  {
   "cell_type": "markdown",
   "metadata": {},
   "source": [
    "Responses D G, Explanatory variables J B"
   ]
  },
  {
   "cell_type": "code",
   "execution_count": 63,
   "metadata": {
    "vscode": {
     "languageId": "r"
    }
   },
   "outputs": [],
   "source": [
    "XJB <- expand.grid(\n",
    "  J = factor(1:3, levels = c(\"1\", \"2\", \"3\")),\n",
    "  B = factor(1:3, levels = c(\"1\", \"2\", \"3\"))\n",
    ")"
   ]
  },
  {
   "cell_type": "code",
   "execution_count": 64,
   "metadata": {
    "vscode": {
     "languageId": "r"
    }
   },
   "outputs": [],
   "source": [
    "ZD <- model.matrix(~ J * B, XJB)[, ]\n",
    "ZG <- model.matrix(~ J * B, XJB)[, ]\n",
    "ZDG <- model.matrix(~ J * B, XJB)[, ]\n",
    "\n",
    "Z1 <- blkdiag(ZD, ZG, ZDG)"
   ]
  },
  {
   "cell_type": "markdown",
   "metadata": {},
   "source": [
    "Maximum likelihood fit of the saturated model `(D*G) ~ (J*B)`"
   ]
  },
  {
   "cell_type": "code",
   "execution_count": 66,
   "metadata": {
    "vscode": {
     "languageId": "r"
    }
   },
   "outputs": [
    {
     "data": {
      "text/html": [
       "<table class=\"dataframe\">\n",
       "<caption>A matrix: 1 x 1 of type dbl</caption>\n",
       "<thead>\n",
       "\t<tr><th></th><th scope=col>LIKELIHOOD RATIO STATISTIC</th></tr>\n",
       "</thead>\n",
       "<tbody>\n",
       "\t<tr><th scope=row></th><td>0</td></tr>\n",
       "</tbody>\n",
       "</table>\n"
      ],
      "text/latex": [
       "A matrix: 1 x 1 of type dbl\n",
       "\\begin{tabular}{r|l}\n",
       "  & LIKELIHOOD RATIO STATISTIC\\\\\n",
       "\\hline\n",
       "\t & 0\\\\\n",
       "\\end{tabular}\n"
      ],
      "text/markdown": [
       "\n",
       "A matrix: 1 x 1 of type dbl\n",
       "\n",
       "| <!--/--> | LIKELIHOOD RATIO STATISTIC |\n",
       "|---|---|\n",
       "| <!----> | 0 |\n",
       "\n"
      ],
      "text/plain": [
       " LIKELIHOOD RATIO STATISTIC\n",
       " 0                         "
      ]
     },
     "metadata": {},
     "output_type": "display_data"
    }
   ],
   "source": [
    "out <- mph.fit(y = y, L.fct = link1, X = Z1)\n",
    "out$Gsq"
   ]
  },
  {
   "cell_type": "markdown",
   "metadata": {},
   "source": [
    "Estimates"
   ]
  },
  {
   "cell_type": "code",
   "execution_count": 71,
   "metadata": {
    "vscode": {
     "languageId": "r"
    }
   },
   "outputs": [
    {
     "data": {
      "text/html": [
       "<table class=\"dataframe\">\n",
       "<caption>A matrix: 9 x 9 of type dbl</caption>\n",
       "<thead>\n",
       "\t<tr><th></th><th scope=col>beta</th><th scope=col>se</th><th scope=col>p</th><th scope=col>beta</th><th scope=col>se</th><th scope=col>p</th><th scope=col>beta</th><th scope=col>se</th><th scope=col>p</th></tr>\n",
       "</thead>\n",
       "<tbody>\n",
       "\t<tr><th scope=row>(Intercept)</th><td>-1.023</td><td>0.05</td><td>0.000</td><td>-1.184</td><td>0.05</td><td>0.000</td><td>-0.344</td><td>0.12</td><td>0.004</td></tr>\n",
       "\t<tr><th scope=row>J2</th><td> 0.094</td><td>0.08</td><td>0.240</td><td> 0.031</td><td>0.08</td><td>0.698</td><td> 0.030</td><td>0.19</td><td>0.875</td></tr>\n",
       "\t<tr><th scope=row>J3</th><td> 0.130</td><td>0.11</td><td>0.237</td><td>-0.027</td><td>0.12</td><td>0.822</td><td> 0.002</td><td>0.28</td><td>0.994</td></tr>\n",
       "\t<tr><th scope=row>B2</th><td>-0.045</td><td>0.06</td><td>0.453</td><td> 0.008</td><td>0.06</td><td>0.894</td><td>-0.116</td><td>0.16</td><td>0.468</td></tr>\n",
       "\t<tr><th scope=row>B3</th><td> 0.143</td><td>0.09</td><td>0.112</td><td> 0.050</td><td>0.09</td><td>0.579</td><td> 0.017</td><td>0.22</td><td>0.938</td></tr>\n",
       "\t<tr><th scope=row>J2:B2</th><td> 0.030</td><td>0.10</td><td>0.764</td><td>-0.032</td><td>0.10</td><td>0.749</td><td> 0.023</td><td>0.24</td><td>0.924</td></tr>\n",
       "\t<tr><th scope=row>J3:B2</th><td> 0.258</td><td>0.13</td><td>0.047</td><td> 0.001</td><td>0.15</td><td>0.995</td><td> 0.108</td><td>0.34</td><td>0.751</td></tr>\n",
       "\t<tr><th scope=row>J2:B3</th><td>-0.071</td><td>0.13</td><td>0.585</td><td> 0.183</td><td>0.14</td><td>0.191</td><td>-0.136</td><td>0.32</td><td>0.671</td></tr>\n",
       "\t<tr><th scope=row>J3:B3</th><td>-0.132</td><td>0.17</td><td>0.437</td><td> 0.111</td><td>0.18</td><td>0.537</td><td> 0.425</td><td>0.41</td><td>0.300</td></tr>\n",
       "</tbody>\n",
       "</table>\n"
      ],
      "text/latex": [
       "A matrix: 9 x 9 of type dbl\n",
       "\\begin{tabular}{r|lllllllll}\n",
       "  & beta & se & p & beta & se & p & beta & se & p\\\\\n",
       "\\hline\n",
       "\t(Intercept) & -1.023 & 0.05 & 0.000 & -1.184 & 0.05 & 0.000 & -0.344 & 0.12 & 0.004\\\\\n",
       "\tJ2 &  0.094 & 0.08 & 0.240 &  0.031 & 0.08 & 0.698 &  0.030 & 0.19 & 0.875\\\\\n",
       "\tJ3 &  0.130 & 0.11 & 0.237 & -0.027 & 0.12 & 0.822 &  0.002 & 0.28 & 0.994\\\\\n",
       "\tB2 & -0.045 & 0.06 & 0.453 &  0.008 & 0.06 & 0.894 & -0.116 & 0.16 & 0.468\\\\\n",
       "\tB3 &  0.143 & 0.09 & 0.112 &  0.050 & 0.09 & 0.579 &  0.017 & 0.22 & 0.938\\\\\n",
       "\tJ2:B2 &  0.030 & 0.10 & 0.764 & -0.032 & 0.10 & 0.749 &  0.023 & 0.24 & 0.924\\\\\n",
       "\tJ3:B2 &  0.258 & 0.13 & 0.047 &  0.001 & 0.15 & 0.995 &  0.108 & 0.34 & 0.751\\\\\n",
       "\tJ2:B3 & -0.071 & 0.13 & 0.585 &  0.183 & 0.14 & 0.191 & -0.136 & 0.32 & 0.671\\\\\n",
       "\tJ3:B3 & -0.132 & 0.17 & 0.437 &  0.111 & 0.18 & 0.537 &  0.425 & 0.41 & 0.300\\\\\n",
       "\\end{tabular}\n"
      ],
      "text/markdown": [
       "\n",
       "A matrix: 9 x 9 of type dbl\n",
       "\n",
       "| <!--/--> | beta | se | p | beta | se | p | beta | se | p |\n",
       "|---|---|---|---|---|---|---|---|---|---|\n",
       "| (Intercept) | -1.023 | 0.05 | 0.000 | -1.184 | 0.05 | 0.000 | -0.344 | 0.12 | 0.004 |\n",
       "| J2 |  0.094 | 0.08 | 0.240 |  0.031 | 0.08 | 0.698 |  0.030 | 0.19 | 0.875 |\n",
       "| J3 |  0.130 | 0.11 | 0.237 | -0.027 | 0.12 | 0.822 |  0.002 | 0.28 | 0.994 |\n",
       "| B2 | -0.045 | 0.06 | 0.453 |  0.008 | 0.06 | 0.894 | -0.116 | 0.16 | 0.468 |\n",
       "| B3 |  0.143 | 0.09 | 0.112 |  0.050 | 0.09 | 0.579 |  0.017 | 0.22 | 0.938 |\n",
       "| J2:B2 |  0.030 | 0.10 | 0.764 | -0.032 | 0.10 | 0.749 |  0.023 | 0.24 | 0.924 |\n",
       "| J3:B2 |  0.258 | 0.13 | 0.047 |  0.001 | 0.15 | 0.995 |  0.108 | 0.34 | 0.751 |\n",
       "| J2:B3 | -0.071 | 0.13 | 0.585 |  0.183 | 0.14 | 0.191 | -0.136 | 0.32 | 0.671 |\n",
       "| J3:B3 | -0.132 | 0.17 | 0.437 |  0.111 | 0.18 | 0.537 |  0.425 | 0.41 | 0.300 |\n",
       "\n"
      ],
      "text/plain": [
       "            beta   se   p     beta   se   p     beta   se   p    \n",
       "(Intercept) -1.023 0.05 0.000 -1.184 0.05 0.000 -0.344 0.12 0.004\n",
       "J2           0.094 0.08 0.240  0.031 0.08 0.698  0.030 0.19 0.875\n",
       "J3           0.130 0.11 0.237 -0.027 0.12 0.822  0.002 0.28 0.994\n",
       "B2          -0.045 0.06 0.453  0.008 0.06 0.894 -0.116 0.16 0.468\n",
       "B3           0.143 0.09 0.112  0.050 0.09 0.579  0.017 0.22 0.938\n",
       "J2:B2        0.030 0.10 0.764 -0.032 0.10 0.749  0.023 0.24 0.924\n",
       "J3:B2        0.258 0.13 0.047  0.001 0.15 0.995  0.108 0.34 0.751\n",
       "J2:B3       -0.071 0.13 0.585  0.183 0.14 0.191 -0.136 0.32 0.671\n",
       "J3:B3       -0.132 0.17 0.437  0.111 0.18 0.537  0.425 0.41 0.300"
      ]
     },
     "metadata": {},
     "output_type": "display_data"
    }
   ],
   "source": [
    "be <- round(out$beta, 3)\n",
    "be_se <- round(sqrt(diag(out$covbeta)), 2)\n",
    "pval <- round(2 * (1 - pnorm(abs(be / be_se))), 3)\n",
    "h <- cbind(be, be_se, pval)\n",
    "colnames(h) <- c(\"beta\", \"se\", \"p\")\n",
    "ta <- cbind(h[1:9, 1:3], h[10:18, 1:3], h[19:27, 1:3])\n",
    "ta"
   ]
  },
  {
   "cell_type": "code",
   "execution_count": null,
   "metadata": {
    "vscode": {
     "languageId": "r"
    }
   },
   "outputs": [],
   "source": []
  }
 ],
 "metadata": {
  "kernelspec": {
   "display_name": "R",
   "language": "R",
   "name": "ir"
  },
  "language_info": {
   "codemirror_mode": "r",
   "file_extension": ".r",
   "mimetype": "text/x-r-source",
   "name": "R",
   "pygments_lexer": "r",
   "version": "4.4.0"
  }
 },
 "nbformat": 4,
 "nbformat_minor": 2
}
