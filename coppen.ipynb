{
 "cells": [
  {
   "cell_type": "markdown",
   "metadata": {},
   "source": [
    "# Analysis of Coppen data"
   ]
  },
  {
   "cell_type": "code",
   "execution_count": 141,
   "metadata": {
    "vscode": {
     "languageId": "r"
    }
   },
   "outputs": [],
   "source": [
    "coppen_data <- read.csv(\"coppen_data.csv\")\n",
    "coppen_data <- as.data.frame(lapply(coppen_data, factor))"
   ]
  },
  {
   "cell_type": "code",
   "execution_count": 142,
   "metadata": {
    "vscode": {
     "languageId": "r"
    }
   },
   "outputs": [
    {
     "name": "stdout",
     "output_type": "stream",
     "text": [
      "'data.frame':\t362 obs. of  4 variables:\n",
      " $ X2: Factor w/ 2 levels \"1\",\"2\": 1 1 1 1 1 1 1 1 1 1 ...\n",
      " $ X4: Factor w/ 2 levels \"1\",\"2\": 1 1 1 1 1 1 1 1 1 1 ...\n",
      " $ X1: Factor w/ 2 levels \"1\",\"2\": 1 1 1 1 1 1 1 1 1 1 ...\n",
      " $ X3: Factor w/ 2 levels \"0\",\"1\": 2 2 2 2 2 2 2 2 2 2 ...\n"
     ]
    }
   ],
   "source": [
    "str(coppen_data)"
   ]
  },
  {
   "cell_type": "code",
   "execution_count": 143,
   "metadata": {
    "vscode": {
     "languageId": "r"
    }
   },
   "outputs": [
    {
     "data": {
      "text/plain": [
       "      X4  1     2   \n",
       "      X2  1  2  1  2\n",
       "X1 X3               \n",
       "1  0     25 22 46 27\n",
       "   1     15 30  9 32\n",
       "2  0     14  8 47 12\n",
       "   1     23 22 14 16"
      ]
     },
     "metadata": {},
     "output_type": "display_data"
    }
   ],
   "source": [
    "ftable(X4 + X2 ~ X1+X3, table(coppen_data))"
   ]
  },
  {
   "cell_type": "code",
   "execution_count": 144,
   "metadata": {
    "vscode": {
     "languageId": "r"
    }
   },
   "outputs": [
    {
     "data": {
      "text/html": [
       "<table class=\"dataframe\">\n",
       "<caption>A data.frame: 3 x 3</caption>\n",
       "<thead>\n",
       "\t<tr><th scope=col>cond_indep</th><th scope=col>test</th><th scope=col>df</th></tr>\n",
       "\t<tr><th scope=col>&lt;chr&gt;</th><th scope=col>&lt;chr&gt;</th><th scope=col>&lt;chr&gt;</th></tr>\n",
       "</thead>\n",
       "<tbody>\n",
       "\t<tr><td>X3 _|_ X1     </td><td>1.4393</td><td>1</td></tr>\n",
       "\t<tr><td>X4 _|_ X1 | X3</td><td>4.0986</td><td>2</td></tr>\n",
       "\t<tr><td>Sum           </td><td>5.5379</td><td>3</td></tr>\n",
       "</tbody>\n",
       "</table>\n"
      ],
      "text/latex": [
       "A data.frame: 3 x 3\n",
       "\\begin{tabular}{lll}\n",
       " cond\\_indep & test & df\\\\\n",
       " <chr> & <chr> & <chr>\\\\\n",
       "\\hline\n",
       "\t X3 \\_\\textbar{}\\_ X1      & 1.4393 & 1\\\\\n",
       "\t X4 \\_\\textbar{}\\_ X1 \\textbar{} X3 & 4.0986 & 2\\\\\n",
       "\t Sum            & 5.5379 & 3\\\\\n",
       "\\end{tabular}\n"
      ],
      "text/markdown": [
       "\n",
       "A data.frame: 3 x 3\n",
       "\n",
       "| cond_indep &lt;chr&gt; | test &lt;chr&gt; | df &lt;chr&gt; |\n",
       "|---|---|---|\n",
       "| X3 _|_ X1      | 1.4393 | 1 |\n",
       "| X4 _|_ X1 | X3 | 4.0986 | 2 |\n",
       "| Sum            | 5.5379 | 3 |\n",
       "\n"
      ],
      "text/plain": [
       "  cond_indep     test   df\n",
       "1 X3 _|_ X1      1.4393 1 \n",
       "2 X4 _|_ X1 | X3 4.0986 2 \n",
       "3 Sum            5.5379 3 "
      ]
     },
     "metadata": {},
     "output_type": "display_data"
    }
   ],
   "source": [
    "library(bnlearn)\n",
    "source(\"funs_RCG.R\")\n",
    "ci_test(\"X1\", c(\"X3\", \"X4\"), test = \"mi\", data = coppen_data)"
   ]
  },
  {
   "cell_type": "code",
   "execution_count": 145,
   "metadata": {
    "vscode": {
     "languageId": "r"
    }
   },
   "outputs": [
    {
     "data": {
      "text/html": [
       "0.136265653084907"
      ],
      "text/latex": [
       "0.136265653084907"
      ],
      "text/markdown": [
       "0.136265653084907"
      ],
      "text/plain": [
       "[1] 0.1362657"
      ]
     },
     "metadata": {},
     "output_type": "display_data"
    }
   ],
   "source": [
    "1-pchisq(5.54, 3)"
   ]
  },
  {
   "cell_type": "code",
   "execution_count": 146,
   "metadata": {
    "vscode": {
     "languageId": "r"
    }
   },
   "outputs": [
    {
     "data": {
      "text/html": [
       "<table class=\"dataframe\">\n",
       "<caption>A data.frame: 3 x 3</caption>\n",
       "<thead>\n",
       "\t<tr><th scope=col>cond_indep</th><th scope=col>test</th><th scope=col>df</th></tr>\n",
       "\t<tr><th scope=col>&lt;chr&gt;</th><th scope=col>&lt;chr&gt;</th><th scope=col>&lt;chr&gt;</th></tr>\n",
       "</thead>\n",
       "<tbody>\n",
       "\t<tr><td>X4 _|_ X1     </td><td>0.1056</td><td>1</td></tr>\n",
       "\t<tr><td>X4 _|_ X2 | X1</td><td>3.3599</td><td>2</td></tr>\n",
       "\t<tr><td>Sum           </td><td>3.4655</td><td>3</td></tr>\n",
       "</tbody>\n",
       "</table>\n"
      ],
      "text/latex": [
       "A data.frame: 3 x 3\n",
       "\\begin{tabular}{lll}\n",
       " cond\\_indep & test & df\\\\\n",
       " <chr> & <chr> & <chr>\\\\\n",
       "\\hline\n",
       "\t X4 \\_\\textbar{}\\_ X1      & 0.1056 & 1\\\\\n",
       "\t X4 \\_\\textbar{}\\_ X2 \\textbar{} X1 & 3.3599 & 2\\\\\n",
       "\t Sum            & 3.4655 & 3\\\\\n",
       "\\end{tabular}\n"
      ],
      "text/markdown": [
       "\n",
       "A data.frame: 3 x 3\n",
       "\n",
       "| cond_indep &lt;chr&gt; | test &lt;chr&gt; | df &lt;chr&gt; |\n",
       "|---|---|---|\n",
       "| X4 _|_ X1      | 0.1056 | 1 |\n",
       "| X4 _|_ X2 | X1 | 3.3599 | 2 |\n",
       "| Sum            | 3.4655 | 3 |\n",
       "\n"
      ],
      "text/plain": [
       "  cond_indep     test   df\n",
       "1 X4 _|_ X1      0.1056 1 \n",
       "2 X4 _|_ X2 | X1 3.3599 2 \n",
       "3 Sum            3.4655 3 "
      ]
     },
     "metadata": {},
     "output_type": "display_data"
    }
   ],
   "source": [
    "ci_test(c(\"X1\", \"X2\"), \"X4\", data = coppen_data)"
   ]
  },
  {
   "cell_type": "code",
   "execution_count": 147,
   "metadata": {
    "vscode": {
     "languageId": "r"
    }
   },
   "outputs": [
    {
     "data": {
      "text/html": [
       "0.325264298234984"
      ],
      "text/latex": [
       "0.325264298234984"
      ],
      "text/markdown": [
       "0.325264298234984"
      ],
      "text/plain": [
       "[1] 0.3252643"
      ]
     },
     "metadata": {},
     "output_type": "display_data"
    }
   ],
   "source": [
    "1-pchisq(3.4655, 3 )"
   ]
  },
  {
   "cell_type": "markdown",
   "metadata": {
    "vscode": {
     "languageId": "r"
    }
   },
   "source": [
    "It is Markov equivalent to the DAG "
   ]
  },
  {
   "cell_type": "code",
   "execution_count": 148,
   "metadata": {
    "vscode": {
     "languageId": "r"
    }
   },
   "outputs": [],
   "source": [
    "D <- DAG(X1 ~ X2, X2 ~ X3, X3 ~ X4)"
   ]
  },
  {
   "cell_type": "code",
   "execution_count": 149,
   "metadata": {
    "vscode": {
     "languageId": "r"
    }
   },
   "outputs": [
    {
     "name": "stdout",
     "output_type": "stream",
     "text": [
      "          cond_indep   test df\n",
      "1     X3 _|_ X1 | X2 4.9904  2\n",
      "2 X4 _|_ X1 | X2, X3 3.3933  4\n",
      "3                Sum 8.3837  6\n",
      "       cond_indep   test df\n",
      "mi X4 _|_ X2 | X3 5.4859  2\n",
      "2             Sum 5.4859  2\n"
     ]
    }
   ],
   "source": [
    "ci_test_DAG(D, data = coppen_data)"
   ]
  },
  {
   "cell_type": "code",
   "execution_count": 150,
   "metadata": {
    "vscode": {
     "languageId": "r"
    }
   },
   "outputs": [
    {
     "data": {
      "text/html": [
       "13.8696"
      ],
      "text/latex": [
       "13.8696"
      ],
      "text/markdown": [
       "13.8696"
      ],
      "text/plain": [
       "[1] 13.8696"
      ]
     },
     "metadata": {},
     "output_type": "display_data"
    }
   ],
   "source": [
    "8.3837 + 5.4859"
   ]
  },
  {
   "cell_type": "code",
   "execution_count": 151,
   "metadata": {
    "vscode": {
     "languageId": "r"
    }
   },
   "outputs": [
    {
     "data": {
      "text/html": [
       "<table class=\"dataframe\">\n",
       "<caption>A data.frame: 2 x 3</caption>\n",
       "<thead>\n",
       "\t<tr><th></th><th scope=col>cond_indep</th><th scope=col>test</th><th scope=col>df</th></tr>\n",
       "\t<tr><th></th><th scope=col>&lt;chr&gt;</th><th scope=col>&lt;chr&gt;</th><th scope=col>&lt;chr&gt;</th></tr>\n",
       "</thead>\n",
       "<tbody>\n",
       "\t<tr><th scope=row>mi</th><td>X4 _|_ X1 | X2, X3</td><td>3.3933</td><td>4</td></tr>\n",
       "\t<tr><th scope=row>2</th><td>Sum               </td><td>3.3933</td><td>4</td></tr>\n",
       "</tbody>\n",
       "</table>\n"
      ],
      "text/latex": [
       "A data.frame: 2 x 3\n",
       "\\begin{tabular}{r|lll}\n",
       "  & cond\\_indep & test & df\\\\\n",
       "  & <chr> & <chr> & <chr>\\\\\n",
       "\\hline\n",
       "\tmi & X4 \\_\\textbar{}\\_ X1 \\textbar{} X2, X3 & 3.3933 & 4\\\\\n",
       "\t2 & Sum                & 3.3933 & 4\\\\\n",
       "\\end{tabular}\n"
      ],
      "text/markdown": [
       "\n",
       "A data.frame: 2 x 3\n",
       "\n",
       "| <!--/--> | cond_indep &lt;chr&gt; | test &lt;chr&gt; | df &lt;chr&gt; |\n",
       "|---|---|---|---|\n",
       "| mi | X4 _|_ X1 | X2, X3 | 3.3933 | 4 |\n",
       "| 2 | Sum                | 3.3933 | 4 |\n",
       "\n"
      ],
      "text/plain": [
       "   cond_indep         test   df\n",
       "mi X4 _|_ X1 | X2, X3 3.3933 4 \n",
       "2  Sum                3.3933 4 "
      ]
     },
     "metadata": {},
     "output_type": "display_data"
    }
   ],
   "source": [
    "ci_test(\"X1\", \"X4\", c(\"X2\",\"X3\"), data = coppen_data)"
   ]
  },
  {
   "cell_type": "code",
   "execution_count": 152,
   "metadata": {
    "vscode": {
     "languageId": "r"
    }
   },
   "outputs": [
    {
     "name": "stdout",
     "output_type": "stream",
     "text": [
      "          cond_indep   test df\n",
      "1     X2 _|_ X4 | X3 5.4859  2\n",
      "2 X1 _|_ X4 | X3, X2 3.3933  4\n",
      "3                Sum 8.8792  6\n",
      "       cond_indep   test df\n",
      "mi X1 _|_ X3 | X2 4.9904  2\n",
      "2             Sum 4.9904  2\n"
     ]
    }
   ],
   "source": [
    "D2 <- DAG(X4 ~ X3, X3 ~ X2, X2 ~ X1)\n",
    "ci_test_DAG(D2, data = coppen_data)"
   ]
  },
  {
   "cell_type": "code",
   "execution_count": 153,
   "metadata": {
    "vscode": {
     "languageId": "r"
    }
   },
   "outputs": [
    {
     "data": {
      "text/html": [
       "13.8696"
      ],
      "text/latex": [
       "13.8696"
      ],
      "text/markdown": [
       "13.8696"
      ],
      "text/plain": [
       "[1] 13.8696"
      ]
     },
     "metadata": {},
     "output_type": "display_data"
    }
   ],
   "source": [
    "8.8792  + 4.9904 "
   ]
  },
  {
   "cell_type": "code",
   "execution_count": 154,
   "metadata": {
    "vscode": {
     "languageId": "r"
    }
   },
   "outputs": [
    {
     "data": {
      "text/html": [
       "0.0852282001683569"
      ],
      "text/latex": [
       "0.0852282001683569"
      ],
      "text/markdown": [
       "0.0852282001683569"
      ],
      "text/plain": [
       "[1] 0.0852282"
      ]
     },
     "metadata": {},
     "output_type": "display_data"
    }
   ],
   "source": [
    "1-pchisq(13.8696, 8)"
   ]
  },
  {
   "cell_type": "code",
   "execution_count": null,
   "metadata": {
    "vscode": {
     "languageId": "r"
    }
   },
   "outputs": [],
   "source": []
  }
 ],
 "metadata": {
  "kernelspec": {
   "display_name": "R",
   "language": "R",
   "name": "ir"
  },
  "language_info": {
   "codemirror_mode": "r",
   "file_extension": ".r",
   "mimetype": "text/x-r-source",
   "name": "R",
   "pygments_lexer": "r",
   "version": "4.4.0"
  }
 },
 "nbformat": 4,
 "nbformat_minor": 2
}
