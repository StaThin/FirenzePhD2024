{
 "cells": [
  {
   "cell_type": "markdown",
   "metadata": {},
   "source": [
    "# Analysis of Coppen data"
   ]
  },
  {
   "cell_type": "code",
   "execution_count": 19,
   "metadata": {
    "vscode": {
     "languageId": "r"
    }
   },
   "outputs": [
    {
     "data": {
      "text/plain": [
       "      X4  1     0   \n",
       "      X2  1  0  1  0\n",
       "X3 X1               \n",
       "1  1     15 30  9 32\n",
       "   0     23 22 14 16\n",
       "0  1     25 22 46 27\n",
       "   0     14  8 47 12"
      ]
     },
     "metadata": {},
     "output_type": "display_data"
    }
   ],
   "source": [
    "coppen = array(m, c(2,2,2,2), dimnames = list(\n",
    "               X2 = c(1,0), X4 = c(1,0), \n",
    "               X1 = c(1,0), X3 = c(\"y\",\"n\"))\n",
    "              )\n",
    "ftable(X4 + X2 ~ X3 + X1, data = coppen)"
   ]
  },
  {
   "cell_type": "code",
   "execution_count": 15,
   "metadata": {
    "vscode": {
     "languageId": "r"
    }
   },
   "outputs": [
    {
     "data": {
      "text/html": [
       "<style>\n",
       ".list-inline {list-style: none; margin:0; padding: 0}\n",
       ".list-inline>li {display: inline-block}\n",
       ".list-inline>li:not(:last-child)::after {content: \"\\00b7\"; padding: 0 .5ex}\n",
       "</style>\n",
       "<ol class=list-inline><li>15</li><li>30</li><li>9</li><li>32</li><li>23</li><li>22</li><li>14</li><li>16</li><li>25</li><li>22</li><li>46</li><li>27</li><li>14</li><li>8</li><li>47</li><li>12</li></ol>\n"
      ],
      "text/latex": [
       "\\begin{enumerate*}\n",
       "\\item 15\n",
       "\\item 30\n",
       "\\item 9\n",
       "\\item 32\n",
       "\\item 23\n",
       "\\item 22\n",
       "\\item 14\n",
       "\\item 16\n",
       "\\item 25\n",
       "\\item 22\n",
       "\\item 46\n",
       "\\item 27\n",
       "\\item 14\n",
       "\\item 8\n",
       "\\item 47\n",
       "\\item 12\n",
       "\\end{enumerate*}\n"
      ],
      "text/markdown": [
       "1. 15\n",
       "2. 30\n",
       "3. 9\n",
       "4. 32\n",
       "5. 23\n",
       "6. 22\n",
       "7. 14\n",
       "8. 16\n",
       "9. 25\n",
       "10. 22\n",
       "11. 46\n",
       "12. 27\n",
       "13. 14\n",
       "14. 8\n",
       "15. 47\n",
       "16. 12\n",
       "\n",
       "\n"
      ],
      "text/plain": [
       ", , stab = 1, depr = 1\n",
       "\n",
       "    soli\n",
       "vali  1  0\n",
       "   1 15  9\n",
       "   0 30 32\n",
       "\n",
       ", , stab = 0, depr = 1\n",
       "\n",
       "    soli\n",
       "vali  1  0\n",
       "   1 23 14\n",
       "   0 22 16\n",
       "\n",
       ", , stab = 1, depr = 0\n",
       "\n",
       "    soli\n",
       "vali  1  0\n",
       "   1 25 46\n",
       "   0 22 27\n",
       "\n",
       ", , stab = 0, depr = 0\n",
       "\n",
       "    soli\n",
       "vali  1  0\n",
       "   1 14 47\n",
       "   0  8 12\n"
      ]
     },
     "metadata": {},
     "output_type": "display_data"
    }
   ],
   "source": [
    "coppen = array(m, c(2,2,2,2), dimnames = list(\n",
    "               X2 = c(1,0), X4 = c(1,0), \n",
    "               X1 = c(1,0), X3 = c(1,0))\n",
    "              )\n",
    "coppen"
   ]
  },
  {
   "cell_type": "markdown",
   "metadata": {},
   "source": []
  }
 ],
 "metadata": {
  "kernelspec": {
   "display_name": "R",
   "language": "R",
   "name": "ir"
  },
  "language_info": {
   "codemirror_mode": "r",
   "file_extension": ".r",
   "mimetype": "text/x-r-source",
   "name": "R",
   "pygments_lexer": "r",
   "version": "4.4.0"
  }
 },
 "nbformat": 4,
 "nbformat_minor": 2
}
