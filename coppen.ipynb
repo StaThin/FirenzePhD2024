{
 "cells": [
  {
   "cell_type": "markdown",
   "metadata": {},
   "source": [
    "# Analysis of Coppen data"
   ]
  },
  {
   "cell_type": "code",
   "execution_count": 22,
   "metadata": {
    "vscode": {
     "languageId": "r"
    }
   },
   "outputs": [
    {
     "data": {
      "text/plain": [
       "      X4  1     2   \n",
       "      X2  1  2  1  2\n",
       "X1 X3               \n",
       "1  y     15 30  9 32\n",
       "   n     25 22 46 27\n",
       "2  y     23 22 14 16\n",
       "   n     14  8 47 12"
      ]
     },
     "metadata": {},
     "output_type": "display_data"
    }
   ],
   "source": [
    "coppen = array(m, c(2,2,2,2), dimnames = list(\n",
    "               X2 = c(1,2), X4 = c(1,2), \n",
    "               X1 = c(1,2), X3 = c(\"y\",\"n\"))\n",
    "              )\n",
    "ftable(X4 + X2 ~ X1 + X3, data = coppen)"
   ]
  },
  {
   "cell_type": "markdown",
   "metadata": {},
   "source": []
  },
  {
   "cell_type": "markdown",
   "metadata": {},
   "source": []
  }
 ],
 "metadata": {
  "kernelspec": {
   "display_name": "R",
   "language": "R",
   "name": "ir"
  },
  "language_info": {
   "codemirror_mode": "r",
   "file_extension": ".r",
   "mimetype": "text/x-r-source",
   "name": "R",
   "pygments_lexer": "r",
   "version": "4.4.0"
  }
 },
 "nbformat": 4,
 "nbformat_minor": 2
}
